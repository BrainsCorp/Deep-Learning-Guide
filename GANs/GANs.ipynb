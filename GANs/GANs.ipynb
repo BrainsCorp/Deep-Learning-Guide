{
  "nbformat": 4,
  "nbformat_minor": 0,
  "metadata": {
    "colab": {
      "provenance": [],
      "gpuType": "T4"
    },
    "kernelspec": {
      "name": "python3",
      "display_name": "Python 3"
    },
    "language_info": {
      "name": "python"
    },
    "accelerator": "GPU"
  },
  "cells": [
    {
      "cell_type": "code",
      "execution_count": null,
      "metadata": {
        "id": "NOzsqzwHbtj9"
      },
      "outputs": [],
      "source": [
        "import torch\n",
        "import torch.nn as nn\n",
        "import torch.optim as optim\n",
        "import torchvision\n",
        "import torchvision.datasets as datasets\n",
        "from torch.utils.data import DataLoader\n",
        "import torchvision.transforms as transforms\n",
        "from torch.utils.tensorboard import SummaryWriter"
      ]
    },
    {
      "cell_type": "code",
      "source": [
        "class Discriminator(nn.Module):\n",
        "  def __init__(self, img_dim):\n",
        "    super().__init__()\n",
        "    self.discriminator = nn.Sequential(\n",
        "        nn.Linear(img_dim, 128), #input\n",
        "        nn.LeakyReLU(0.1),\n",
        "        nn.Linear(128, 1), #output\n",
        "        nn.Sigmoid(), #softmax\n",
        "    )\n",
        "  def forward(self, x):\n",
        "    return self.discriminator(x\n",
        "    )\n",
        "\n",
        "class Generator(nn.Module):\n",
        "  def __init__(self, z_dim, img_dim):\n",
        "    super().__init__()\n",
        "    self.generator = nn.Sequential(\n",
        "        nn.Linear(z_dim, 256),\n",
        "        nn.LeakyReLU(0.1),\n",
        "        nn.Linear(256, img_dim), # output 28*28 image\n",
        "        nn.Tanh() #Why Tanh (-1, 1)\n",
        "    )\n",
        "\n",
        "  def forward(self, x):\n",
        "    return self.generator(x)"
      ],
      "metadata": {
        "id": "TWI7yR2jdOuJ"
      },
      "execution_count": null,
      "outputs": []
    },
    {
      "cell_type": "code",
      "source": [
        "device = \"cuda\" if torch.cuda.is_available() else \"cpu\"\n",
        "print(device)"
      ],
      "metadata": {
        "id": "1J66Q7Agfhed"
      },
      "execution_count": null,
      "outputs": []
    },
    {
      "cell_type": "code",
      "source": [
        "#initializing variables\n",
        "lr = 3e-4\n",
        "z_dim = 64\n",
        "image_dim = 28 * 28 * 1\n",
        "batch_size = 32\n",
        "num_epochs = 50\n",
        "\n",
        "disc = Discriminator(image_dim).to(device)\n",
        "gen = Generator(z_dim, image_dim).to(device)\n",
        "\n",
        "#noise\n",
        "fixed_noise = torch.randn((batch_size, z_dim)).to(device)\n",
        "\n",
        "#transformations\n",
        "transforms = transforms.Compose(\n",
        "    [transforms.ToTensor(), transforms.Normalize((0.5,), (0.5,))]\n",
        ")"
      ],
      "metadata": {
        "id": "XvE2fvgyfw7J"
      },
      "execution_count": null,
      "outputs": []
    },
    {
      "cell_type": "markdown",
      "source": [
        "## Load Data"
      ],
      "metadata": {
        "id": "kqcCEAxXkOzP"
      }
    },
    {
      "cell_type": "code",
      "source": [
        "#load dataset\n",
        "data = datasets.MNIST(root=\"dataset/\", transform=transforms, download=True)\n",
        "#data = data.train_data"
      ],
      "metadata": {
        "colab": {
          "base_uri": "https://localhost:8080/"
        },
        "id": "rbsCbcW4gsVz",
        "outputId": "f907b3c7-7562-4bc9-9410-c7d9d22dc8d4"
      },
      "execution_count": null,
      "outputs": [
        {
          "output_type": "stream",
          "name": "stdout",
          "text": [
            "Downloading http://yann.lecun.com/exdb/mnist/train-images-idx3-ubyte.gz\n",
            "Failed to download (trying next):\n",
            "HTTP Error 403: Forbidden\n",
            "\n",
            "Downloading https://ossci-datasets.s3.amazonaws.com/mnist/train-images-idx3-ubyte.gz\n",
            "Downloading https://ossci-datasets.s3.amazonaws.com/mnist/train-images-idx3-ubyte.gz to dataset/MNIST/raw/train-images-idx3-ubyte.gz\n"
          ]
        },
        {
          "output_type": "stream",
          "name": "stderr",
          "text": [
            "100%|██████████| 9912422/9912422 [00:00<00:00, 57015433.67it/s]\n"
          ]
        },
        {
          "output_type": "stream",
          "name": "stdout",
          "text": [
            "Extracting dataset/MNIST/raw/train-images-idx3-ubyte.gz to dataset/MNIST/raw\n",
            "\n",
            "Downloading http://yann.lecun.com/exdb/mnist/train-labels-idx1-ubyte.gz\n",
            "Failed to download (trying next):\n",
            "HTTP Error 403: Forbidden\n",
            "\n",
            "Downloading https://ossci-datasets.s3.amazonaws.com/mnist/train-labels-idx1-ubyte.gz\n",
            "Downloading https://ossci-datasets.s3.amazonaws.com/mnist/train-labels-idx1-ubyte.gz to dataset/MNIST/raw/train-labels-idx1-ubyte.gz\n"
          ]
        },
        {
          "output_type": "stream",
          "name": "stderr",
          "text": [
            "100%|██████████| 28881/28881 [00:00<00:00, 2067020.92it/s]"
          ]
        },
        {
          "output_type": "stream",
          "name": "stdout",
          "text": [
            "Extracting dataset/MNIST/raw/train-labels-idx1-ubyte.gz to dataset/MNIST/raw\n",
            "\n",
            "Downloading http://yann.lecun.com/exdb/mnist/t10k-images-idx3-ubyte.gz\n"
          ]
        },
        {
          "output_type": "stream",
          "name": "stderr",
          "text": [
            "\n"
          ]
        },
        {
          "output_type": "stream",
          "name": "stdout",
          "text": [
            "Failed to download (trying next):\n",
            "HTTP Error 403: Forbidden\n",
            "\n",
            "Downloading https://ossci-datasets.s3.amazonaws.com/mnist/t10k-images-idx3-ubyte.gz\n",
            "Downloading https://ossci-datasets.s3.amazonaws.com/mnist/t10k-images-idx3-ubyte.gz to dataset/MNIST/raw/t10k-images-idx3-ubyte.gz\n"
          ]
        },
        {
          "output_type": "stream",
          "name": "stderr",
          "text": [
            "100%|██████████| 1648877/1648877 [00:01<00:00, 1538431.56it/s]\n"
          ]
        },
        {
          "output_type": "stream",
          "name": "stdout",
          "text": [
            "Extracting dataset/MNIST/raw/t10k-images-idx3-ubyte.gz to dataset/MNIST/raw\n",
            "\n",
            "Downloading http://yann.lecun.com/exdb/mnist/t10k-labels-idx1-ubyte.gz\n",
            "Failed to download (trying next):\n",
            "HTTP Error 403: Forbidden\n",
            "\n",
            "Downloading https://ossci-datasets.s3.amazonaws.com/mnist/t10k-labels-idx1-ubyte.gz\n",
            "Downloading https://ossci-datasets.s3.amazonaws.com/mnist/t10k-labels-idx1-ubyte.gz to dataset/MNIST/raw/t10k-labels-idx1-ubyte.gz\n"
          ]
        },
        {
          "output_type": "stream",
          "name": "stderr",
          "text": [
            "100%|██████████| 4542/4542 [00:00<00:00, 2671508.73it/s]"
          ]
        },
        {
          "output_type": "stream",
          "name": "stdout",
          "text": [
            "Extracting dataset/MNIST/raw/t10k-labels-idx1-ubyte.gz to dataset/MNIST/raw\n",
            "\n"
          ]
        },
        {
          "output_type": "stream",
          "name": "stderr",
          "text": [
            "\n"
          ]
        }
      ]
    },
    {
      "cell_type": "code",
      "source": [
        "##getting images of 9\n",
        "print(sum(data.targets == 9))\n",
        "data_9 = data.data[data.targets == 9]\n",
        "data_9.shape"
      ],
      "metadata": {
        "colab": {
          "base_uri": "https://localhost:8080/"
        },
        "id": "ABOYgdX4hSmm",
        "outputId": "d2d7a160-39d0-4187-87c0-9f11d8fa0db6"
      },
      "execution_count": null,
      "outputs": [
        {
          "output_type": "stream",
          "name": "stdout",
          "text": [
            "tensor(5949)\n"
          ]
        },
        {
          "output_type": "execute_result",
          "data": {
            "text/plain": [
              "torch.Size([5949, 28, 28])"
            ]
          },
          "metadata": {},
          "execution_count": 14
        }
      ]
    },
    {
      "cell_type": "code",
      "source": [
        "import matplotlib.pyplot as plt\n",
        "\n",
        "sample = data_9[:9,:,:]\n",
        "fig, ax = plt.subplots(3, 3, figsize=(8, 8))\n",
        "for i, img in enumerate(sample):\n",
        "    ax.ravel()[i].imshow(img, cmap='gray')\n",
        "    #ax.ravel()[i].set_axis_off()\n",
        "plt.show()"
      ],
      "metadata": {
        "colab": {
          "base_uri": "https://localhost:8080/",
          "height": 641
        },
        "id": "6p5PaF11hrmI",
        "outputId": "0d8514c8-5091-4bbc-94f5-de97b0ec1bd9"
      },
      "execution_count": null,
      "outputs": [
        {
          "output_type": "display_data",
          "data": {
            "text/plain": [
              "<Figure size 800x800 with 9 Axes>"
            ],
            "image/png": "[encoded data removed]"
          },
          "metadata": {}
        }
      ]
    },
    {
      "cell_type": "markdown",
      "source": [
        "## Step2:"
      ],
      "metadata": {
        "id": "t2Gr6fEikTYH"
      }
    },
    {
      "cell_type": "code",
      "source": [
        "loader = DataLoader(dataset = data, batch_size = batch_size, shuffle=True)\n",
        "opt_disc = optim.Adam(disc.parameters(), lr=lr)\n",
        "opt_gen = optim.Adam(gen.parameters(), lr=lr)\n",
        "loss = nn.BCELoss()\n",
        "\n",
        "# #TensorBoard\n",
        "# writer_fake = SummaryWriter(f\"runs/GAN_MNIST/fake\")\n",
        "# writer_real = SummaryWriter(f\"runs/GAN_MNIST/real\")"
      ],
      "metadata": {
        "id": "Gst5_xloicKy"
      },
      "execution_count": null,
      "outputs": []
    },
    {
      "cell_type": "code",
      "source": [
        "\n",
        "for epoch in range(num_epochs):\n",
        "  for batch_idx, (real, _) in enumerate(loader):\n",
        "    real = real.view(-1, 784).to(device)\n",
        "    batch_size = real.shape[0]\n",
        "\n",
        "    ### Train Discriminator\n",
        "    ##Generate noise\n",
        "    noise = torch.randn(batch_size, z_dim).to(device)\n",
        "    fake = gen(noise)\n",
        "\n",
        "    ## Real image loss\n",
        "    disc_real = disc(real).view(-1)\n",
        "    loss_disc_real = loss(disc_real, torch.ones_like(disc_real))\n",
        "\n",
        "    ## Fake image loss\n",
        "    disc_fake = disc(fake).view(-1)\n",
        "    loss_disc_fake = loss(disc_fake, torch.zeros_like(disc_fake))\n",
        "\n",
        "    ## average loss\n",
        "    loss_disc = (loss_disc_real + loss_disc_fake) / 2\n",
        "\n",
        "    ## Discriminator backward pass\n",
        "    disc.zero_grad() #set gradient\n",
        "    loss_disc.backward(retain_graph=True) #retain_graph? #calculate gradient\n",
        "    opt_disc.step() #update weights\n",
        "\n",
        "    ###----------------------------------\n",
        "    ### Train Generator\n",
        "    output = disc(fake).view(-1) #why we do this thing again\n",
        "    loss_gen = loss(output, torch.ones_like(output)) #? disc tells fake(0) but we need it be real(1)\n",
        "    gen.zero_grad()\n",
        "    loss_gen.backward()\n",
        "    opt_gen.step()\n",
        "\n",
        "    ##results\n",
        "    if batch_idx == 0:\n",
        "      print(f\"Epoch [{epoch}/ {num_epochs}]\",\n",
        "            f\"LossD : {loss_disc:.4f}, LossG : {loss_gen:.4f}\", sep='\\n')\n",
        "      ##Store results\n",
        "      with torch.no_grad():\n",
        "        fake = gen(fixed_noise).reshape(-1, 1, 28, 28)\n",
        "        data = real.reshape(-1, 1, 28, 28)\n",
        "        img_grid_fake = torchvision.utils.make_grid(fake, normalize=True)\n",
        "        img_grid_real = torchvision.utils.make_grid(data, normalize=True)\n",
        "\n",
        "        #visualize img_grid\n",
        "        plt.imshow(img_grid_fake.permute(1, 2, 0))\n",
        "        plt.imshow(img_grid_real.permute(1, 2, 0))\n",
        "        plt.show()\n"
      ],
      "metadata": {
        "id": "JiyuMw7slqxa"
      },
      "execution_count": null,
      "outputs": []
    }
  ]
}