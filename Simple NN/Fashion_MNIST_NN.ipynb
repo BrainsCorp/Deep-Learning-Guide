{
  "cells": [
    {
      "cell_type": "markdown",
      "metadata": {
        "id": "view-in-github",
        "colab_type": "text"
      },
      "source": [
        "<a href=\"https://colab.research.google.com/github/BrainsCorp/Deep-Learning-Guide/blob/main/Fashion_MNIST_NN.ipynb\" target=\"_parent\"><img src=\"https://colab.research.google.com/assets/colab-badge.svg\" alt=\"Open In Colab\"/></a>"
      ]
    },
    {
      "cell_type": "code",
      "source": [
        "# Student Name: Vishal\n",
        "# Student ID: n01676081"
      ],
      "metadata": {
        "id": "fYnXaOVAXJ16"
      },
      "execution_count": null,
      "outputs": []
    },
    {
      "cell_type": "code",
      "execution_count": 4,
      "metadata": {
        "id": "24oBIcDg_a1y"
      },
      "outputs": [],
      "source": [
        "import pandas as pd\n",
        "import numpy as np\n",
        "import matplotlib.pyplot as plt\n",
        "import seaborn as sns\n",
        "import warnings\n",
        "warnings.filterwarnings('ignore')\n",
        "plt.style.use('dark_background')\n",
        "\n",
        "# import tensorflow layers dense crossEntropy Adam\n",
        "import tensorflow as tf\n",
        "from tensorflow import keras\n",
        "from tensorflow.keras.layers import Dense\n",
        "from tensorflow.keras.models import Sequential\n",
        "from tensorflow.keras.datasets import fashion_mnist\n",
        "\n",
        "#\n",
        "from sklearn.metrics import classification_report"
      ]
    },
    {
      "cell_type": "code",
      "execution_count": 5,
      "metadata": {
        "colab": {
          "base_uri": "https://localhost:8080/",
          "height": 0
        },
        "id": "NgjmmvgaBwUq",
        "outputId": "336b6eb2-759f-4294-9b72-56a14fdc31ca"
      },
      "outputs": [
        {
          "output_type": "stream",
          "name": "stdout",
          "text": [
            "(60000, 28, 28)\n",
            "(10000, 28, 28)\n"
          ]
        }
      ],
      "source": [
        "(train_images, train_labels), (test_images, test_labels) = fashion_mnist.load_data()\n",
        "print(train_images.shape)\n",
        "print(test_images.shape)"
      ]
    },
    {
      "cell_type": "code",
      "execution_count": 6,
      "metadata": {
        "colab": {
          "base_uri": "https://localhost:8080/",
          "height": 1000
        },
        "id": "Q-SV7QWKF9Pg",
        "outputId": "aef0d490-faf7-4e59-80b4-9be6882f20cb"
      },
      "outputs": [
        {
          "output_type": "display_data",
          "data": {
            "text/plain": [
              "<Figure size 1000x1000 with 9 Axes>"
            ],
            "image/png": "[encoded data removed]"
          },
          "metadata": {}
        }
      ],
      "source": [
        "## visualize\n",
        "fig, ax = plt.subplots(nrows=3, ncols=3, figsize=(10,10))\n",
        "ax = ax.flatten()\n",
        "for i in range(9):\n",
        "    ax[i].imshow(train_images[i], cmap='gray')\n",
        "    ax[i].set_title(train_labels[i])\n",
        "    ax[i].axis('off')\n",
        "plt.tight_layout()\n",
        "plt.show()"
      ]
    },
    {
      "cell_type": "markdown",
      "metadata": {
        "id": "Yz5wgeD5WUfp"
      },
      "source": [
        "### Input Standardization\n",
        "**NOTE :** why use mean and std of train data ✅\\\n",
        "The primary reason for standardizing the test data with the mean and standard deviation of the training data is to maintain consistency and avoid data leakage. Here's a breakdown of the benefits:\n",
        "\n",
        "1. **Consistency**: By using the same statistics for both training and test data, you ensure that the model is making predictions on data that has been transformed in the same way as the data it was trained on. This prevents the model from being biased towards the specific scale of the test data.\n",
        "\n",
        "1. **Data Leakage**: If you were to use the mean and standard deviation of the test data to standardize it, you would be effectively using information from the test data to train the model. This is known as data leakage and can lead to overfitting, where the model performs well on the training data but poorly on unseen data.\n",
        "\n",
        "1. **Improved Model Performance**: Standardization often improves the performance of machine learning models, especially those that are sensitive to the scale of the data, such as neural networks and support vector machines. By standardizing the data, you can help the model converge faster and avoid numerical instability."
      ]
    },
    {
      "cell_type": "code",
      "execution_count": 7,
      "metadata": {
        "colab": {
          "base_uri": "https://localhost:8080/",
          "height": 0
        },
        "id": "jP3B1W4JG_dB",
        "outputId": "beab425e-4d03-4a0e-b1de-a8a2ef33e95b"
      },
      "outputs": [
        {
          "output_type": "stream",
          "name": "stdout",
          "text": [
            "train img mean: 72.94035223214286\n",
            "train img stddev: 90.02118235130519\n"
          ]
        }
      ],
      "source": [
        "## preprocessing\n",
        "# Standardize the data.\n",
        "mean = np.mean(train_images)\n",
        "stddev = np.std(train_images)\n",
        "train_images = (train_images - mean) / stddev\n",
        "test_images = (test_images - mean) / stddev\n",
        "\n",
        "print(f\"train img mean: {mean}\")\n",
        "print(f\"train img stddev: {stddev}\")"
      ]
    },
    {
      "cell_type": "code",
      "execution_count": 8,
      "metadata": {
        "colab": {
          "base_uri": "https://localhost:8080/",
          "height": 0
        },
        "id": "gS8ta3UpWbjj",
        "outputId": "6c63a6b7-2166-4713-d014-f4cd9364d3aa"
      },
      "outputs": [
        {
          "output_type": "stream",
          "name": "stdout",
          "text": [
            "train img mean: -0.00\n",
            "train img stddev: 1.0\n",
            "test img mean: 0.00\n",
            "test img stddev: 0.9983567948193489\n"
          ]
        }
      ],
      "source": [
        "## After standarization\n",
        "mean = np.mean(train_images)\n",
        "stddev = np.std(train_images)\n",
        "mean_t = np.mean(test_images)\n",
        "stddev_t = np.std(test_images)\n",
        "\n",
        "print(f\"train img mean: {mean:.2f}\")\n",
        "print(f\"train img stddev: {stddev}\")\n",
        "print(f\"test img mean: {mean_t:.2f}\")\n",
        "print(f\"test img stddev: {stddev_t}\")"
      ]
    },
    {
      "cell_type": "code",
      "execution_count": 9,
      "metadata": {
        "id": "dSIGeIUEJaEz"
      },
      "outputs": [],
      "source": [
        "# One-hot encode labels.\n",
        "from tensorflow.keras.utils import to_categorical\n",
        "train_labels = to_categorical(train_labels, num_classes=10)\n",
        "test_labels = to_categorical(test_labels, num_classes=10)"
      ]
    },
    {
      "cell_type": "markdown",
      "metadata": {
        "id": "coBLMk6mF5MS"
      },
      "source": [
        "## Weight Intialization Technique\n",
        "Methods:\n",
        "1. `he_normal`\n",
        "1. `he_uniform` - Purpose: Specifically designed for layers with ReLU (Rectified Linear Unit) activation functions. Suitable For: ReLU and its variants (e.g., Leaky ReLU).\n",
        "1. `glorot_uniform` - Purpose: Designed to keep the scale of the gradients roughly the same in all layers. Suitable For: Activation functions like Sigmoid and Tanh."
      ]
    },
    {
      "cell_type": "markdown",
      "source": [
        "## Model Logs:\n",
        "1. Run 1: 1024 -> 10, epoch: 128, lr: 0.01, acc: 88.5\n",
        "2. Run 2: 2048 -> 10, --------------------, acc: 88.6\n",
        "3. Run 3. ----------- epoch: 64,  lr: 0.01, acc: 88.9\n",
        "4. Run 4: 2048 -> 512 -> 10, -------------, acc: 89.3\n",
        "5. Run 5: 2048 -> 512 -> 128 -> 10 -------, acc: 89.5, with dropout(0.2)\n",
        "6. Run 6: ---------------------- lr: 0.005, acc: 90.0, loss: 0.30 with dropout(0.2)\n",
        "7. Run 7: 2048 -> 512 -> 10, epochs: 48, lr: 0.001 acc: 89.7 loss: loss: 0.29 with dropout(0.2)\n"
      ],
      "metadata": {
        "id": "CzJJvXT-y7me"
      }
    },
    {
      "cell_type": "code",
      "execution_count": 37,
      "metadata": {
        "colab": {
          "base_uri": "https://localhost:8080/",
          "height": 0
        },
        "id": "cQPciQX0EqwT",
        "outputId": "36b73b1b-70fc-48fd-802c-e115cfc09799"
      },
      "outputs": [
        {
          "output_type": "stream",
          "name": "stdout",
          "text": [
            "Epoch 1/48\n",
            "938/938 - 6s - 7ms/step - accuracy: 0.7835 - loss: 0.6110 - val_accuracy: 0.8400 - val_loss: 0.4440\n",
            "Epoch 2/48\n",
            "938/938 - 2s - 2ms/step - accuracy: 0.8397 - loss: 0.4418 - val_accuracy: 0.8523 - val_loss: 0.4091\n",
            "Epoch 3/48\n",
            "938/938 - 2s - 2ms/step - accuracy: 0.8547 - loss: 0.4011 - val_accuracy: 0.8610 - val_loss: 0.3879\n",
            "Epoch 4/48\n",
            "938/938 - 3s - 3ms/step - accuracy: 0.8631 - loss: 0.3751 - val_accuracy: 0.8643 - val_loss: 0.3716\n",
            "Epoch 5/48\n",
            "938/938 - 3s - 3ms/step - accuracy: 0.8715 - loss: 0.3544 - val_accuracy: 0.8671 - val_loss: 0.3616\n",
            "Epoch 6/48\n",
            "938/938 - 2s - 2ms/step - accuracy: 0.8758 - loss: 0.3402 - val_accuracy: 0.8721 - val_loss: 0.3533\n",
            "Epoch 7/48\n",
            "938/938 - 2s - 2ms/step - accuracy: 0.8807 - loss: 0.3282 - val_accuracy: 0.8728 - val_loss: 0.3498\n",
            "Epoch 8/48\n",
            "938/938 - 3s - 3ms/step - accuracy: 0.8826 - loss: 0.3184 - val_accuracy: 0.8725 - val_loss: 0.3461\n",
            "Epoch 9/48\n",
            "938/938 - 2s - 2ms/step - accuracy: 0.8886 - loss: 0.3079 - val_accuracy: 0.8802 - val_loss: 0.3319\n",
            "Epoch 10/48\n",
            "938/938 - 3s - 3ms/step - accuracy: 0.8916 - loss: 0.2982 - val_accuracy: 0.8794 - val_loss: 0.3301\n",
            "Epoch 11/48\n",
            "938/938 - 5s - 5ms/step - accuracy: 0.8929 - loss: 0.2918 - val_accuracy: 0.8793 - val_loss: 0.3297\n",
            "Epoch 12/48\n",
            "938/938 - 2s - 3ms/step - accuracy: 0.8957 - loss: 0.2843 - val_accuracy: 0.8828 - val_loss: 0.3220\n",
            "Epoch 13/48\n",
            "938/938 - 2s - 3ms/step - accuracy: 0.8995 - loss: 0.2758 - val_accuracy: 0.8828 - val_loss: 0.3187\n",
            "Epoch 14/48\n",
            "938/938 - 3s - 4ms/step - accuracy: 0.9006 - loss: 0.2705 - val_accuracy: 0.8826 - val_loss: 0.3173\n",
            "Epoch 15/48\n",
            "938/938 - 2s - 2ms/step - accuracy: 0.9025 - loss: 0.2641 - val_accuracy: 0.8857 - val_loss: 0.3146\n",
            "Epoch 16/48\n",
            "938/938 - 2s - 2ms/step - accuracy: 0.9055 - loss: 0.2566 - val_accuracy: 0.8856 - val_loss: 0.3121\n",
            "Epoch 17/48\n",
            "938/938 - 2s - 2ms/step - accuracy: 0.9065 - loss: 0.2522 - val_accuracy: 0.8861 - val_loss: 0.3113\n",
            "Epoch 18/48\n",
            "938/938 - 2s - 2ms/step - accuracy: 0.9093 - loss: 0.2465 - val_accuracy: 0.8854 - val_loss: 0.3093\n",
            "Epoch 19/48\n",
            "938/938 - 3s - 3ms/step - accuracy: 0.9121 - loss: 0.2412 - val_accuracy: 0.8876 - val_loss: 0.3075\n",
            "Epoch 20/48\n",
            "938/938 - 3s - 3ms/step - accuracy: 0.9125 - loss: 0.2362 - val_accuracy: 0.8878 - val_loss: 0.3065\n",
            "Epoch 21/48\n",
            "938/938 - 2s - 2ms/step - accuracy: 0.9161 - loss: 0.2305 - val_accuracy: 0.8872 - val_loss: 0.3042\n",
            "Epoch 22/48\n",
            "938/938 - 2s - 2ms/step - accuracy: 0.9163 - loss: 0.2281 - val_accuracy: 0.8883 - val_loss: 0.3024\n",
            "Epoch 23/48\n",
            "938/938 - 3s - 3ms/step - accuracy: 0.9190 - loss: 0.2209 - val_accuracy: 0.8896 - val_loss: 0.3004\n",
            "Epoch 24/48\n",
            "938/938 - 2s - 2ms/step - accuracy: 0.9198 - loss: 0.2170 - val_accuracy: 0.8904 - val_loss: 0.2979\n",
            "Epoch 25/48\n",
            "938/938 - 3s - 3ms/step - accuracy: 0.9215 - loss: 0.2142 - val_accuracy: 0.8906 - val_loss: 0.2991\n",
            "Epoch 26/48\n",
            "938/938 - 5s - 5ms/step - accuracy: 0.9232 - loss: 0.2085 - val_accuracy: 0.8921 - val_loss: 0.2989\n",
            "Epoch 27/48\n",
            "938/938 - 2s - 3ms/step - accuracy: 0.9261 - loss: 0.2038 - val_accuracy: 0.8934 - val_loss: 0.2967\n",
            "Epoch 28/48\n",
            "938/938 - 3s - 3ms/step - accuracy: 0.9261 - loss: 0.2017 - val_accuracy: 0.8946 - val_loss: 0.2974\n",
            "Epoch 29/48\n",
            "938/938 - 3s - 3ms/step - accuracy: 0.9279 - loss: 0.1973 - val_accuracy: 0.8939 - val_loss: 0.2926\n",
            "Epoch 30/48\n",
            "938/938 - 4s - 5ms/step - accuracy: 0.9300 - loss: 0.1925 - val_accuracy: 0.8933 - val_loss: 0.2948\n",
            "Epoch 31/48\n",
            "938/938 - 2s - 2ms/step - accuracy: 0.9304 - loss: 0.1885 - val_accuracy: 0.8947 - val_loss: 0.2936\n",
            "Epoch 32/48\n",
            "938/938 - 3s - 3ms/step - accuracy: 0.9325 - loss: 0.1867 - val_accuracy: 0.8952 - val_loss: 0.2920\n",
            "Epoch 33/48\n",
            "938/938 - 3s - 3ms/step - accuracy: 0.9341 - loss: 0.1810 - val_accuracy: 0.8961 - val_loss: 0.2954\n",
            "Epoch 34/48\n",
            "938/938 - 4s - 5ms/step - accuracy: 0.9348 - loss: 0.1785 - val_accuracy: 0.8962 - val_loss: 0.2928\n",
            "Epoch 35/48\n",
            "938/938 - 3s - 3ms/step - accuracy: 0.9360 - loss: 0.1744 - val_accuracy: 0.8941 - val_loss: 0.2949\n",
            "Epoch 36/48\n",
            "938/938 - 2s - 2ms/step - accuracy: 0.9375 - loss: 0.1720 - val_accuracy: 0.8979 - val_loss: 0.2891\n",
            "Epoch 37/48\n",
            "938/938 - 3s - 3ms/step - accuracy: 0.9387 - loss: 0.1692 - val_accuracy: 0.8959 - val_loss: 0.2895\n",
            "Epoch 38/48\n",
            "938/938 - 2s - 2ms/step - accuracy: 0.9414 - loss: 0.1643 - val_accuracy: 0.8983 - val_loss: 0.2907\n",
            "Epoch 39/48\n",
            "938/938 - 2s - 2ms/step - accuracy: 0.9412 - loss: 0.1618 - val_accuracy: 0.8964 - val_loss: 0.2937\n",
            "Epoch 40/48\n",
            "938/938 - 2s - 2ms/step - accuracy: 0.9434 - loss: 0.1567 - val_accuracy: 0.8970 - val_loss: 0.3055\n",
            "Epoch 41/48\n",
            "938/938 - 2s - 2ms/step - accuracy: 0.9435 - loss: 0.1555 - val_accuracy: 0.8987 - val_loss: 0.2910\n",
            "Epoch 42/48\n",
            "938/938 - 2s - 2ms/step - accuracy: 0.9448 - loss: 0.1514 - val_accuracy: 0.8989 - val_loss: 0.2926\n",
            "Epoch 43/48\n",
            "938/938 - 2s - 3ms/step - accuracy: 0.9453 - loss: 0.1499 - val_accuracy: 0.8977 - val_loss: 0.2906\n",
            "Epoch 44/48\n",
            "938/938 - 2s - 2ms/step - accuracy: 0.9470 - loss: 0.1463 - val_accuracy: 0.8993 - val_loss: 0.2949\n",
            "Epoch 45/48\n",
            "938/938 - 2s - 2ms/step - accuracy: 0.9485 - loss: 0.1434 - val_accuracy: 0.8970 - val_loss: 0.2945\n",
            "Epoch 46/48\n",
            "938/938 - 2s - 3ms/step - accuracy: 0.9497 - loss: 0.1397 - val_accuracy: 0.9009 - val_loss: 0.2912\n",
            "Epoch 47/48\n",
            "938/938 - 3s - 3ms/step - accuracy: 0.9499 - loss: 0.1377 - val_accuracy: 0.8989 - val_loss: 0.2928\n",
            "Epoch 48/48\n",
            "938/938 - 3s - 3ms/step - accuracy: 0.9499 - loss: 0.1364 - val_accuracy: 0.8979 - val_loss: 0.2923\n"
          ]
        }
      ],
      "source": [
        "from tensorflow import keras\n",
        "\n",
        "EPOCHS = 48\n",
        "BATCH_SIZE = 64\n",
        "LR = 0.001\n",
        "\n",
        "# Object used to initialize weights.\n",
        "# initializer = keras.initializers.RandomUniform(\n",
        "#     minval=-0.1, maxval=0.1)\n",
        "\n",
        "# Create a Sequential model.\n",
        "# 784 inputs.\n",
        "# Three Dense (fully connected) layers\n",
        "# relu as activation function for hidden layer and softmax for output\n",
        "model = keras.Sequential(layers = [\n",
        "    keras.layers.Flatten(input_shape=(28, 28)),\n",
        "    keras.layers.Dense(2048, activation='relu',\n",
        "                       kernel_initializer='he_uniform',\n",
        "                       bias_initializer='zeros'),\n",
        "    keras.layers.Dropout(0.2),\n",
        "    keras.layers.Dense(512, activation='relu',\n",
        "                       kernel_initializer='he_uniform',\n",
        "                       bias_initializer='zeros'),\n",
        "    # keras.layers.Dropout(0.2),\n",
        "    # keras.layers.Dense(128, activation='relu',\n",
        "    #                    kernel_initializer='he_uniform',\n",
        "    #                    bias_initializer='zeros'),\n",
        "    keras.layers.Dropout(0.2),\n",
        "    keras.layers.Dense(10, activation='softmax',\n",
        "                       kernel_initializer='glorot_uniform',\n",
        "                       bias_initializer='zeros')])\n",
        "\n",
        "# Use stochastic gradient descent (SGD) with\n",
        "# learning rate of 0.01 and no other bells and whistles.\n",
        "# CrossEntropy as loss function and report accuracy during training.\n",
        "opt = keras.optimizers.SGD(learning_rate=LR, momentum=0.9)\n",
        "\n",
        "model.compile(loss='categorical_crossentropy', optimizer = opt,\n",
        "              metrics =['accuracy'])\n",
        "\n",
        "# Shuffle (randomize) order.\n",
        "# Update weights after each example (batch_size=1).\n",
        "history = model.fit(train_images, train_labels,\n",
        "                    validation_data=(test_images, test_labels),\n",
        "                    epochs=EPOCHS, batch_size=BATCH_SIZE,\n",
        "                    verbose=2, shuffle=True)"
      ]
    },
    {
      "cell_type": "code",
      "execution_count": 38,
      "metadata": {
        "colab": {
          "base_uri": "https://localhost:8080/",
          "height": 449
        },
        "id": "hJOO4D13MaSb",
        "outputId": "7e71458e-3a93-4572-f412-ae8ff241403d"
      },
      "outputs": [
        {
          "output_type": "display_data",
          "data": {
            "text/plain": [
              "<Figure size 640x480 with 1 Axes>"
            ],
            "image/png": "[encoded data removed]"
          },
          "metadata": {}
        }
      ],
      "source": [
        "# train and validation loss\n",
        "plt.plot(history.history['loss'], label='loss')\n",
        "plt.plot(history.history['val_loss'], label='val_loss')\n",
        "plt.xlabel('Epoch')\n",
        "plt.ylabel('Loss')\n",
        "plt.legend()\n",
        "plt.show()"
      ]
    },
    {
      "cell_type": "code",
      "execution_count": 39,
      "metadata": {
        "colab": {
          "base_uri": "https://localhost:8080/",
          "height": 0
        },
        "id": "t8_4UW3OAc1n",
        "outputId": "60dd12de-cb99-4026-d0c1-08b6552f3d18"
      },
      "outputs": [
        {
          "output_type": "stream",
          "name": "stdout",
          "text": [
            "\u001b[1m313/313\u001b[0m \u001b[32m━━━━━━━━━━━━━━━━━━━━\u001b[0m\u001b[37m\u001b[0m \u001b[1m1s\u001b[0m 2ms/step - accuracy: 0.8987 - loss: 0.2936\n",
            "Test accuracy: 0.8978999853134155 => 0.90\n"
          ]
        }
      ],
      "source": [
        "## evalute\n",
        "test_loss, test_acc = model.evaluate(test_images, test_labels)\n",
        "print(f\"Test accuracy: {test_acc} => {test_acc:.2f}\")"
      ]
    },
    {
      "cell_type": "markdown",
      "metadata": {
        "id": "fhQvoUm39CWx"
      },
      "source": [
        "## Batch Normalization"
      ]
    },
    {
      "cell_type": "code",
      "execution_count": 52,
      "metadata": {
        "colab": {
          "base_uri": "https://localhost:8080/",
          "height": 0
        },
        "id": "LBFcqcF97NOo",
        "outputId": "bd0ec32d-f4bd-47d2-d798-28b9d6b3e3bc"
      },
      "outputs": [
        {
          "output_type": "stream",
          "name": "stdout",
          "text": [
            "Epoch 1/48\n",
            "938/938 - 8s - 9ms/step - accuracy: 0.7470 - loss: 0.7459 - val_accuracy: 0.8384 - val_loss: 0.4607\n",
            "Epoch 2/48\n",
            "938/938 - 3s - 3ms/step - accuracy: 0.8180 - loss: 0.5178 - val_accuracy: 0.8519 - val_loss: 0.4164\n",
            "Epoch 3/48\n",
            "938/938 - 3s - 3ms/step - accuracy: 0.8341 - loss: 0.4683 - val_accuracy: 0.8612 - val_loss: 0.3947\n",
            "Epoch 4/48\n",
            "938/938 - 2s - 2ms/step - accuracy: 0.8442 - loss: 0.4379 - val_accuracy: 0.8641 - val_loss: 0.3787\n",
            "Epoch 5/48\n",
            "938/938 - 2s - 3ms/step - accuracy: 0.8502 - loss: 0.4175 - val_accuracy: 0.8673 - val_loss: 0.3683\n",
            "Epoch 6/48\n",
            "938/938 - 2s - 2ms/step - accuracy: 0.8588 - loss: 0.3982 - val_accuracy: 0.8701 - val_loss: 0.3599\n",
            "Epoch 7/48\n",
            "938/938 - 3s - 3ms/step - accuracy: 0.8618 - loss: 0.3843 - val_accuracy: 0.8730 - val_loss: 0.3544\n",
            "Epoch 8/48\n",
            "938/938 - 5s - 5ms/step - accuracy: 0.8668 - loss: 0.3736 - val_accuracy: 0.8741 - val_loss: 0.3484\n",
            "Epoch 9/48\n",
            "938/938 - 2s - 3ms/step - accuracy: 0.8697 - loss: 0.3613 - val_accuracy: 0.8763 - val_loss: 0.3418\n",
            "Epoch 10/48\n",
            "938/938 - 3s - 3ms/step - accuracy: 0.8712 - loss: 0.3553 - val_accuracy: 0.8780 - val_loss: 0.3381\n",
            "Epoch 11/48\n",
            "938/938 - 3s - 3ms/step - accuracy: 0.8742 - loss: 0.3477 - val_accuracy: 0.8793 - val_loss: 0.3357\n",
            "Epoch 12/48\n",
            "938/938 - 2s - 3ms/step - accuracy: 0.8749 - loss: 0.3430 - val_accuracy: 0.8796 - val_loss: 0.3311\n",
            "Epoch 13/48\n",
            "938/938 - 2s - 3ms/step - accuracy: 0.8795 - loss: 0.3341 - val_accuracy: 0.8833 - val_loss: 0.3283\n",
            "Epoch 14/48\n",
            "938/938 - 3s - 3ms/step - accuracy: 0.8820 - loss: 0.3254 - val_accuracy: 0.8831 - val_loss: 0.3261\n",
            "Epoch 15/48\n",
            "938/938 - 2s - 2ms/step - accuracy: 0.8839 - loss: 0.3187 - val_accuracy: 0.8836 - val_loss: 0.3234\n",
            "Epoch 16/48\n",
            "938/938 - 3s - 3ms/step - accuracy: 0.8847 - loss: 0.3138 - val_accuracy: 0.8818 - val_loss: 0.3225\n",
            "Epoch 17/48\n",
            "938/938 - 5s - 5ms/step - accuracy: 0.8867 - loss: 0.3107 - val_accuracy: 0.8827 - val_loss: 0.3212\n",
            "Epoch 18/48\n",
            "938/938 - 2s - 3ms/step - accuracy: 0.8874 - loss: 0.3065 - val_accuracy: 0.8861 - val_loss: 0.3189\n",
            "Epoch 19/48\n",
            "938/938 - 2s - 2ms/step - accuracy: 0.8899 - loss: 0.2981 - val_accuracy: 0.8847 - val_loss: 0.3163\n",
            "Epoch 20/48\n",
            "938/938 - 3s - 3ms/step - accuracy: 0.8898 - loss: 0.2976 - val_accuracy: 0.8858 - val_loss: 0.3129\n",
            "Epoch 21/48\n",
            "938/938 - 2s - 3ms/step - accuracy: 0.8937 - loss: 0.2911 - val_accuracy: 0.8868 - val_loss: 0.3137\n",
            "Epoch 22/48\n",
            "938/938 - 2s - 3ms/step - accuracy: 0.8933 - loss: 0.2883 - val_accuracy: 0.8871 - val_loss: 0.3100\n",
            "Epoch 23/48\n",
            "938/938 - 2s - 2ms/step - accuracy: 0.8982 - loss: 0.2819 - val_accuracy: 0.8878 - val_loss: 0.3093\n",
            "Epoch 24/48\n",
            "938/938 - 3s - 3ms/step - accuracy: 0.8978 - loss: 0.2781 - val_accuracy: 0.8892 - val_loss: 0.3082\n",
            "Epoch 25/48\n",
            "938/938 - 3s - 3ms/step - accuracy: 0.8991 - loss: 0.2753 - val_accuracy: 0.8908 - val_loss: 0.3057\n",
            "Epoch 26/48\n",
            "938/938 - 4s - 5ms/step - accuracy: 0.8990 - loss: 0.2727 - val_accuracy: 0.8913 - val_loss: 0.3040\n",
            "Epoch 27/48\n",
            "938/938 - 2s - 2ms/step - accuracy: 0.9024 - loss: 0.2666 - val_accuracy: 0.8907 - val_loss: 0.3050\n",
            "Epoch 28/48\n",
            "938/938 - 2s - 2ms/step - accuracy: 0.9028 - loss: 0.2645 - val_accuracy: 0.8919 - val_loss: 0.3024\n",
            "Epoch 29/48\n",
            "938/938 - 3s - 3ms/step - accuracy: 0.9051 - loss: 0.2590 - val_accuracy: 0.8921 - val_loss: 0.3027\n",
            "Epoch 30/48\n",
            "938/938 - 5s - 5ms/step - accuracy: 0.9068 - loss: 0.2536 - val_accuracy: 0.8931 - val_loss: 0.3022\n",
            "Epoch 31/48\n",
            "938/938 - 2s - 3ms/step - accuracy: 0.9062 - loss: 0.2549 - val_accuracy: 0.8936 - val_loss: 0.3008\n",
            "Epoch 32/48\n",
            "938/938 - 2s - 2ms/step - accuracy: 0.9083 - loss: 0.2489 - val_accuracy: 0.8949 - val_loss: 0.3003\n",
            "Epoch 33/48\n",
            "938/938 - 3s - 3ms/step - accuracy: 0.9093 - loss: 0.2449 - val_accuracy: 0.8965 - val_loss: 0.2973\n",
            "Epoch 34/48\n",
            "938/938 - 3s - 3ms/step - accuracy: 0.9103 - loss: 0.2412 - val_accuracy: 0.8957 - val_loss: 0.2969\n",
            "Epoch 35/48\n",
            "938/938 - 2s - 2ms/step - accuracy: 0.9116 - loss: 0.2392 - val_accuracy: 0.8964 - val_loss: 0.2976\n",
            "Epoch 36/48\n",
            "938/938 - 2s - 3ms/step - accuracy: 0.9124 - loss: 0.2350 - val_accuracy: 0.8958 - val_loss: 0.2976\n",
            "Epoch 37/48\n",
            "938/938 - 2s - 3ms/step - accuracy: 0.9142 - loss: 0.2332 - val_accuracy: 0.8966 - val_loss: 0.2964\n",
            "Epoch 38/48\n",
            "938/938 - 3s - 3ms/step - accuracy: 0.9136 - loss: 0.2322 - val_accuracy: 0.8958 - val_loss: 0.2971\n",
            "Epoch 39/48\n",
            "938/938 - 3s - 3ms/step - accuracy: 0.9143 - loss: 0.2301 - val_accuracy: 0.8987 - val_loss: 0.2952\n",
            "Epoch 40/48\n",
            "938/938 - 5s - 5ms/step - accuracy: 0.9172 - loss: 0.2255 - val_accuracy: 0.8983 - val_loss: 0.2970\n",
            "Epoch 41/48\n",
            "938/938 - 2s - 3ms/step - accuracy: 0.9180 - loss: 0.2209 - val_accuracy: 0.8983 - val_loss: 0.2947\n",
            "Epoch 42/48\n",
            "938/938 - 3s - 3ms/step - accuracy: 0.9189 - loss: 0.2177 - val_accuracy: 0.8991 - val_loss: 0.2925\n",
            "Epoch 43/48\n",
            "938/938 - 5s - 5ms/step - accuracy: 0.9201 - loss: 0.2163 - val_accuracy: 0.8961 - val_loss: 0.2955\n",
            "Epoch 44/48\n",
            "938/938 - 2s - 3ms/step - accuracy: 0.9218 - loss: 0.2102 - val_accuracy: 0.8992 - val_loss: 0.2929\n",
            "Epoch 45/48\n",
            "938/938 - 3s - 3ms/step - accuracy: 0.9221 - loss: 0.2120 - val_accuracy: 0.8972 - val_loss: 0.2946\n",
            "Epoch 46/48\n",
            "938/938 - 3s - 3ms/step - accuracy: 0.9220 - loss: 0.2074 - val_accuracy: 0.9004 - val_loss: 0.2974\n",
            "Epoch 47/48\n",
            "938/938 - 4s - 5ms/step - accuracy: 0.9240 - loss: 0.2045 - val_accuracy: 0.8986 - val_loss: 0.2958\n",
            "Epoch 48/48\n",
            "938/938 - 2s - 2ms/step - accuracy: 0.9237 - loss: 0.2039 - val_accuracy: 0.8999 - val_loss: 0.2949\n"
          ]
        }
      ],
      "source": [
        "from tensorflow import keras\n",
        "\n",
        "EPOCHS = 48\n",
        "BATCH_SIZE = 64\n",
        "LR = 0.001\n",
        "\n",
        "# Object used to initialize weights.\n",
        "# initializer = keras.initializers.RandomUniform(\n",
        "#     minval=-0.1, maxval=0.1)\n",
        "\n",
        "# Create a Sequential model.\n",
        "# 784 inputs.\n",
        "# Relu as activation function for hidden layer.\n",
        "# Softmax as activation function for output layer.\n",
        "model = keras.Sequential(layers = [\n",
        "    keras.layers.Flatten(input_shape=(28, 28)),\n",
        "    keras.layers.BatchNormalization(),\n",
        "    keras.layers.Dense(2048, activation='relu',\n",
        "                       kernel_initializer='he_uniform',\n",
        "                       bias_initializer='zeros'),\n",
        "    keras.layers.Dropout(0.2),\n",
        "    keras.layers.BatchNormalization(),\n",
        "    keras.layers.Dense(512, activation='relu',\n",
        "                       kernel_initializer='he_uniform',\n",
        "                       bias_initializer='zeros'),\n",
        "    keras.layers.Dropout(0.2),\n",
        "    keras.layers.BatchNormalization(),\n",
        "    # keras.layers.Dense(256, activation='relu',\n",
        "    #                    kernel_initializer='he_uniform',\n",
        "    #                    bias_initializer='zeros'),\n",
        "    # keras.layers.BatchNormalization(),\n",
        "    keras.layers.Dense(64, activation='relu',\n",
        "                       kernel_initializer='he_uniform',\n",
        "                       bias_initializer='zeros'),\n",
        "    keras.layers.Dropout(0.2),\n",
        "    keras.layers.BatchNormalization(),\n",
        "    keras.layers.Dense(10, activation='softmax',\n",
        "                       kernel_initializer='glorot_uniform',\n",
        "                       bias_initializer='zeros')])\n",
        "\n",
        "# Use stochastic gradient descent (SGD) with\n",
        "# learning rate of 0.01 and no other bells and whistles.\n",
        "# CrossEntropy as loss function and report accuracy during training.\n",
        "opt = keras.optimizers.SGD(momentum=0.9, learning_rate=LR)\n",
        "\n",
        "model.compile(loss='categorical_crossentropy', optimizer = opt,\n",
        "              metrics =['accuracy'])\n",
        "\n",
        "# Shuffle (randomize) order.\n",
        "# Update weights after each example (batch_size=1).\n",
        "history = model.fit(train_images, train_labels,\n",
        "                    validation_data=(test_images, test_labels),\n",
        "                    epochs=EPOCHS, batch_size=BATCH_SIZE,\n",
        "                    verbose=2, shuffle=True)"
      ]
    },
    {
      "cell_type": "code",
      "execution_count": 53,
      "metadata": {
        "colab": {
          "base_uri": "https://localhost:8080/",
          "height": 449
        },
        "id": "yqP2E0tm_JPx",
        "outputId": "70d8cec1-55fe-4144-b672-b43b7e71beef"
      },
      "outputs": [
        {
          "output_type": "display_data",
          "data": {
            "text/plain": [
              "<Figure size 640x480 with 1 Axes>"
            ],
            "image/png": "[encoded data removed]"
          },
          "metadata": {}
        }
      ],
      "source": [
        "# train and validation loss\n",
        "plt.plot(history.history['loss'], label='loss')\n",
        "plt.plot(history.history['val_loss'], label='val_loss')\n",
        "plt.xlabel('Epoch')\n",
        "plt.ylabel('Loss')\n",
        "plt.legend()\n",
        "plt.show()"
      ]
    },
    {
      "cell_type": "code",
      "execution_count": 54,
      "metadata": {
        "colab": {
          "base_uri": "https://localhost:8080/",
          "height": 0
        },
        "id": "SUpgt3JpA0iu",
        "outputId": "a8c41c10-67cb-43f1-a6a0-79fd9975f7b6"
      },
      "outputs": [
        {
          "output_type": "stream",
          "name": "stdout",
          "text": [
            "\u001b[1m313/313\u001b[0m \u001b[32m━━━━━━━━━━━━━━━━━━━━\u001b[0m\u001b[37m\u001b[0m \u001b[1m1s\u001b[0m 2ms/step - accuracy: 0.9000 - loss: 0.3003\n",
            "Test accuracy: 0.8999000191688538 -> 0.9\n"
          ]
        }
      ],
      "source": [
        "# evalute\n",
        "test_loss, test_acc = model.evaluate(test_images, test_labels)\n",
        "print(f\"Test accuracy: {test_acc} -> {round(test_acc, 2)}\")"
      ]
    },
    {
      "cell_type": "markdown",
      "source": [
        "## Interpetation:\n",
        "1. For few runs, simple model with two layers (2048, 10) was doing great achieved max acc. 88.5. Problem: with more epochs the model was overfitting, with train acc: 98% and test: 89% and validation loss: ~ 0.4 only not stablize model. validation loss 0.37 was not decreasing => model overfitting\n",
        "1. So, increase depth of the model: (2048, 512, 10) increases tes acc by 0.02\n",
        "1. Discovered: (`he uniform` with `ReLu`) and (`glorot_uniform` with `softmax`) is great combination of weight initialization techniques, works for stabilizing the model and saturated neuron problem.\n",
        "1. `Batch norm` helps in stablizing the model which is suffering from Train and test score variation and increases model training speed. Getting model validation loss: 0.29 and model train acc: 0.92 and test acc: 89.6.\n",
        "1. `Dropout` with 0.2 helps in increasing acc to 0.8999 => `0.90`\n",
        "1. `learning rate 0.001` best learning rate, helps in lowering validation loss\n",
        "1. **Best Model so far:**\n",
        "layers (2048, 512, 64, 10) with batchnorm, dropout(0.2) and `he_uniform` at hiddlen layers and `glorot_uniform` at output layer. train acc: 92.3 and test acc: 90.0, stable model. with best low validation of 0.30."
      ],
      "metadata": {
        "id": "ntaKi6109TvD"
      }
    },
    {
      "cell_type": "markdown",
      "source": [
        "# ----------------------------------------------------------------------------------------------------------------------------"
      ],
      "metadata": {
        "id": "lQGarTvOVOu0"
      }
    },
    {
      "cell_type": "markdown",
      "metadata": {
        "id": "rY6xQuqLCVvt"
      },
      "source": [
        "## CNN\n",
        "tried cnn just for fun not part of assignment"
      ]
    },
    {
      "cell_type": "code",
      "execution_count": null,
      "metadata": {
        "colab": {
          "base_uri": "https://localhost:8080/"
        },
        "id": "cV7l0bwqku5F",
        "outputId": "145e0ef7-ebae-4453-9231-bae42fce2246"
      },
      "outputs": [
        {
          "data": {
            "text/plain": [
              "(60000, 28, 28)"
            ]
          },
          "execution_count": 93,
          "metadata": {},
          "output_type": "execute_result"
        }
      ],
      "source": [
        "train_images.shape"
      ]
    },
    {
      "cell_type": "code",
      "execution_count": null,
      "metadata": {
        "colab": {
          "base_uri": "https://localhost:8080/"
        },
        "id": "hwMp-m_LBBSK",
        "outputId": "d016a1d7-ef46-4812-9244-a7674d0ee757"
      },
      "outputs": [
        {
          "name": "stdout",
          "output_type": "stream",
          "text": [
            "Model: \"sequential_1\"\n",
            "_________________________________________________________________\n",
            " Layer (type)                Output Shape              Param #   \n",
            "=================================================================\n",
            " conv2d_2 (Conv2D)           (None, 28, 28, 64)        320       \n",
            "                                                                 \n",
            " max_pooling2d_2 (MaxPoolin  (None, 14, 14, 64)        0         \n",
            " g2D)                                                            \n",
            "                                                                 \n",
            " dropout_2 (Dropout)         (None, 14, 14, 64)        0         \n",
            "                                                                 \n",
            " batch_normalization_2 (Bat  (None, 14, 14, 64)        256       \n",
            " chNormalization)                                                \n",
            "                                                                 \n",
            " conv2d_3 (Conv2D)           (None, 14, 14, 32)        8224      \n",
            "                                                                 \n",
            " max_pooling2d_3 (MaxPoolin  (None, 7, 7, 32)          0         \n",
            " g2D)                                                            \n",
            "                                                                 \n",
            " dropout_3 (Dropout)         (None, 7, 7, 32)          0         \n",
            "                                                                 \n",
            " batch_normalization_3 (Bat  (None, 7, 7, 32)          128       \n",
            " chNormalization)                                                \n",
            "                                                                 \n",
            " flatten_1 (Flatten)         (None, 1568)              0         \n",
            "                                                                 \n",
            " dense_1 (Dense)             (None, 256)               401664    \n",
            "                                                                 \n",
            " dropout_4 (Dropout)         (None, 256)               0         \n",
            "                                                                 \n",
            " batch_normalization_4 (Bat  (None, 256)               1024      \n",
            " chNormalization)                                                \n",
            "                                                                 \n",
            " dense_2 (Dense)             (None, 10)                2570      \n",
            "                                                                 \n",
            "=================================================================\n",
            "Total params: 414186 (1.58 MB)\n",
            "Trainable params: 413482 (1.58 MB)\n",
            "Non-trainable params: 704 (2.75 KB)\n",
            "_________________________________________________________________\n"
          ]
        }
      ],
      "source": [
        "##\n",
        "model_cnn = tf.keras.Sequential()\n",
        "# Must define the input shape in the first layer of the neural network\n",
        "model_cnn.add(tf.keras.layers.Conv2D(filters=64, kernel_size=2, padding='same', activation='relu', input_shape=(28,28,1)))\n",
        "model_cnn.add(tf.keras.layers.MaxPooling2D(pool_size=2))\n",
        "model_cnn.add(tf.keras.layers.Dropout(0.3))\n",
        "model_cnn.add(tf.keras.layers.BatchNormalization())\n",
        "model_cnn.add(tf.keras.layers.Conv2D(filters=32, kernel_size=2, padding='same', activation='relu', kernel_initializer='he_uniform'))\n",
        "model_cnn.add(tf.keras.layers.MaxPooling2D(pool_size=2))\n",
        "model_cnn.add(tf.keras.layers.Dropout(0.3))\n",
        "model_cnn.add(tf.keras.layers.BatchNormalization())\n",
        "model_cnn.add(tf.keras.layers.Flatten())\n",
        "model_cnn.add(tf.keras.layers.Dense(256, activation='relu', kernel_initializer='he_uniform'))\n",
        "model_cnn.add(tf.keras.layers.Dropout(0.5))\n",
        "model_cnn.add(tf.keras.layers.BatchNormalization())\n",
        "model_cnn.add(tf.keras.layers.Dense(10, activation='softmax', kernel_initializer='he_uniform'))\n",
        "\n",
        "model_cnn.summary()"
      ]
    },
    {
      "cell_type": "code",
      "execution_count": null,
      "metadata": {
        "colab": {
          "base_uri": "https://localhost:8080/"
        },
        "id": "om8w0kUmkWfr",
        "outputId": "ef2feca5-d2eb-42d8-9f87-5356a78f427d"
      },
      "outputs": [
        {
          "name": "stdout",
          "output_type": "stream",
          "text": [
            "Epoch 1/32\n",
            "469/469 [==============================] - 17s 35ms/step - loss: 0.6577 - accuracy: 0.7633 - val_loss: 0.6064 - val_accuracy: 0.7637\n",
            "Epoch 2/32\n",
            "469/469 [==============================] - 14s 31ms/step - loss: 0.4621 - accuracy: 0.8303 - val_loss: 0.3694 - val_accuracy: 0.8628\n",
            "Epoch 3/32\n",
            "469/469 [==============================] - 15s 33ms/step - loss: 0.4170 - accuracy: 0.8455 - val_loss: 0.3489 - val_accuracy: 0.8731\n",
            "Epoch 4/32\n",
            "469/469 [==============================] - 15s 32ms/step - loss: 0.3890 - accuracy: 0.8578 - val_loss: 0.3242 - val_accuracy: 0.8775\n",
            "Epoch 5/32\n",
            "469/469 [==============================] - 15s 32ms/step - loss: 0.3657 - accuracy: 0.8664 - val_loss: 0.3124 - val_accuracy: 0.8816\n",
            "Epoch 6/32\n",
            "469/469 [==============================] - 15s 31ms/step - loss: 0.3532 - accuracy: 0.8714 - val_loss: 0.3050 - val_accuracy: 0.8875\n",
            "Epoch 7/32\n",
            "469/469 [==============================] - 15s 31ms/step - loss: 0.3391 - accuracy: 0.8755 - val_loss: 0.2966 - val_accuracy: 0.8903\n",
            "Epoch 8/32\n",
            "469/469 [==============================] - 15s 31ms/step - loss: 0.3312 - accuracy: 0.8786 - val_loss: 0.2858 - val_accuracy: 0.8958\n",
            "Epoch 9/32\n",
            "469/469 [==============================] - 14s 31ms/step - loss: 0.3233 - accuracy: 0.8813 - val_loss: 0.3141 - val_accuracy: 0.8828\n",
            "Epoch 10/32\n",
            "469/469 [==============================] - 15s 32ms/step - loss: 0.3161 - accuracy: 0.8829 - val_loss: 0.2829 - val_accuracy: 0.8974\n",
            "Epoch 11/32\n",
            "469/469 [==============================] - 15s 32ms/step - loss: 0.3087 - accuracy: 0.8873 - val_loss: 0.2680 - val_accuracy: 0.9016\n",
            "Epoch 12/32\n",
            "469/469 [==============================] - 15s 32ms/step - loss: 0.3045 - accuracy: 0.8878 - val_loss: 0.2615 - val_accuracy: 0.9020\n",
            "Epoch 13/32\n",
            "469/469 [==============================] - 14s 30ms/step - loss: 0.2981 - accuracy: 0.8906 - val_loss: 0.2548 - val_accuracy: 0.9076\n",
            "Epoch 14/32\n",
            "469/469 [==============================] - 15s 31ms/step - loss: 0.2887 - accuracy: 0.8954 - val_loss: 0.2640 - val_accuracy: 0.9035\n",
            "Epoch 15/32\n",
            "469/469 [==============================] - 15s 31ms/step - loss: 0.2866 - accuracy: 0.8953 - val_loss: 0.2898 - val_accuracy: 0.8921\n",
            "Epoch 16/32\n",
            "469/469 [==============================] - 15s 32ms/step - loss: 0.2868 - accuracy: 0.8945 - val_loss: 0.2596 - val_accuracy: 0.9060\n",
            "Epoch 17/32\n",
            "469/469 [==============================] - 14s 30ms/step - loss: 0.2779 - accuracy: 0.8993 - val_loss: 0.2536 - val_accuracy: 0.9082\n",
            "Epoch 18/32\n",
            "469/469 [==============================] - 15s 32ms/step - loss: 0.2758 - accuracy: 0.8982 - val_loss: 0.2514 - val_accuracy: 0.9113\n",
            "Epoch 19/32\n",
            "469/469 [==============================] - 15s 32ms/step - loss: 0.2716 - accuracy: 0.8995 - val_loss: 0.2407 - val_accuracy: 0.9128\n",
            "Epoch 20/32\n",
            "469/469 [==============================] - 15s 32ms/step - loss: 0.2715 - accuracy: 0.9007 - val_loss: 0.2572 - val_accuracy: 0.9076\n",
            "Epoch 21/32\n",
            "469/469 [==============================] - 15s 32ms/step - loss: 0.2680 - accuracy: 0.9012 - val_loss: 0.2435 - val_accuracy: 0.9116\n",
            "Epoch 22/32\n",
            "469/469 [==============================] - 15s 32ms/step - loss: 0.2682 - accuracy: 0.9014 - val_loss: 0.2467 - val_accuracy: 0.9117\n",
            "Epoch 23/32\n",
            "469/469 [==============================] - 15s 32ms/step - loss: 0.2614 - accuracy: 0.9026 - val_loss: 0.2458 - val_accuracy: 0.9111\n",
            "Epoch 24/32\n",
            "469/469 [==============================] - 15s 32ms/step - loss: 0.2607 - accuracy: 0.9043 - val_loss: 0.2336 - val_accuracy: 0.9137\n",
            "Epoch 25/32\n",
            "469/469 [==============================] - 15s 32ms/step - loss: 0.2570 - accuracy: 0.9054 - val_loss: 0.2293 - val_accuracy: 0.9161\n",
            "Epoch 26/32\n",
            "469/469 [==============================] - 15s 31ms/step - loss: 0.2535 - accuracy: 0.9059 - val_loss: 0.2356 - val_accuracy: 0.9137\n",
            "Epoch 27/32\n",
            "469/469 [==============================] - 15s 31ms/step - loss: 0.2511 - accuracy: 0.9071 - val_loss: 0.2352 - val_accuracy: 0.9128\n",
            "Epoch 28/32\n",
            "469/469 [==============================] - 15s 31ms/step - loss: 0.2492 - accuracy: 0.9073 - val_loss: 0.2354 - val_accuracy: 0.9137\n",
            "Epoch 29/32\n",
            "469/469 [==============================] - 15s 32ms/step - loss: 0.2511 - accuracy: 0.9069 - val_loss: 0.2550 - val_accuracy: 0.9062\n",
            "Epoch 30/32\n",
            "469/469 [==============================] - 15s 32ms/step - loss: 0.2473 - accuracy: 0.9074 - val_loss: 0.2323 - val_accuracy: 0.9159\n",
            "Epoch 31/32\n",
            "469/469 [==============================] - 15s 32ms/step - loss: 0.2434 - accuracy: 0.9103 - val_loss: 0.2394 - val_accuracy: 0.9105\n",
            "Epoch 32/32\n",
            "469/469 [==============================] - 15s 32ms/step - loss: 0.2418 - accuracy: 0.9106 - val_loss: 0.2297 - val_accuracy: 0.9156\n"
          ]
        },
        {
          "data": {
            "text/plain": [
              "<keras.src.callbacks.History at 0x7d95900365c0>"
            ]
          },
          "execution_count": 11,
          "metadata": {},
          "output_type": "execute_result"
        }
      ],
      "source": [
        "opt = keras.optimizers.SGD(learning_rate=0.01, momentum=0.9)\n",
        "model_cnn.compile(loss='categorical_crossentropy',\n",
        "              optimizer=opt,\n",
        "              metrics=['accuracy'])\n",
        "history = model_cnn.fit(train_images, train_labels, batch_size=128,\n",
        "              epochs=32, validation_data=(test_images, test_labels))"
      ]
    },
    {
      "cell_type": "code",
      "execution_count": null,
      "metadata": {
        "colab": {
          "base_uri": "https://localhost:8080/"
        },
        "id": "UaUJaSzvWxD_",
        "outputId": "5f2489a7-d17d-4830-9b76-b2fd7adc7325"
      },
      "outputs": [
        {
          "name": "stdout",
          "output_type": "stream",
          "text": [
            "313/313 [==============================] - 1s 4ms/step - loss: 0.2297 - accuracy: 0.9156\n",
            "Test accuracy: 0.9156000018119812\n"
          ]
        }
      ],
      "source": [
        "test_loss, test_acc = model_cnn.evaluate(test_images, test_labels)\n",
        "print(f\"Test accuracy: {test_acc}\")"
      ]
    },
    {
      "cell_type": "code",
      "execution_count": null,
      "metadata": {
        "id": "HIqmkQ6hW2vw"
      },
      "outputs": [],
      "source": []
    }
  ],
  "metadata": {
    "accelerator": "GPU",
    "colab": {
      "gpuType": "T4",
      "provenance": [],
      "include_colab_link": true
    },
    "kernelspec": {
      "display_name": "Python 3",
      "name": "python3"
    },
    "language_info": {
      "name": "python"
    }
  },
  "nbformat": 4,
  "nbformat_minor": 0
}
